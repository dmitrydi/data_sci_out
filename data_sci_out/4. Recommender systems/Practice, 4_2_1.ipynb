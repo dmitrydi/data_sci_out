{
 "cells": [
  {
   "cell_type": "code",
   "execution_count": 1,
   "metadata": {
    "collapsed": true
   },
   "outputs": [],
   "source": [
    "import pandas as pd\n",
    "import numpy as np\n",
    "import matplotlib.pyplot as plt\n",
    "from scipy.sparse import csr_matrix\n",
    "%matplotlib inline"
   ]
  },
  {
   "cell_type": "code",
   "execution_count": 4,
   "metadata": {},
   "outputs": [
    {
     "data": {
      "text/html": [
       "<div>\n",
       "<style>\n",
       "    .dataframe thead tr:only-child th {\n",
       "        text-align: right;\n",
       "    }\n",
       "\n",
       "    .dataframe thead th {\n",
       "        text-align: left;\n",
       "    }\n",
       "\n",
       "    .dataframe tbody tr th {\n",
       "        vertical-align: top;\n",
       "    }\n",
       "</style>\n",
       "<table border=\"1\" class=\"dataframe\">\n",
       "  <thead>\n",
       "    <tr style=\"text-align: right;\">\n",
       "      <th></th>\n",
       "      <th>title</th>\n",
       "      <th>genres</th>\n",
       "    </tr>\n",
       "    <tr>\n",
       "      <th>movieId</th>\n",
       "      <th></th>\n",
       "      <th></th>\n",
       "    </tr>\n",
       "  </thead>\n",
       "  <tbody>\n",
       "    <tr>\n",
       "      <th>1</th>\n",
       "      <td>Toy Story (1995)</td>\n",
       "      <td>Adventure|Animation|Children|Comedy|Fantasy</td>\n",
       "    </tr>\n",
       "    <tr>\n",
       "      <th>2</th>\n",
       "      <td>Jumanji (1995)</td>\n",
       "      <td>Adventure|Children|Fantasy</td>\n",
       "    </tr>\n",
       "    <tr>\n",
       "      <th>3</th>\n",
       "      <td>Grumpier Old Men (1995)</td>\n",
       "      <td>Comedy|Romance</td>\n",
       "    </tr>\n",
       "    <tr>\n",
       "      <th>4</th>\n",
       "      <td>Waiting to Exhale (1995)</td>\n",
       "      <td>Comedy|Drama|Romance</td>\n",
       "    </tr>\n",
       "    <tr>\n",
       "      <th>5</th>\n",
       "      <td>Father of the Bride Part II (1995)</td>\n",
       "      <td>Comedy</td>\n",
       "    </tr>\n",
       "  </tbody>\n",
       "</table>\n",
       "</div>"
      ],
      "text/plain": [
       "                                      title  \\\n",
       "movieId                                       \n",
       "1                          Toy Story (1995)   \n",
       "2                            Jumanji (1995)   \n",
       "3                   Grumpier Old Men (1995)   \n",
       "4                  Waiting to Exhale (1995)   \n",
       "5        Father of the Bride Part II (1995)   \n",
       "\n",
       "                                              genres  \n",
       "movieId                                               \n",
       "1        Adventure|Animation|Children|Comedy|Fantasy  \n",
       "2                         Adventure|Children|Fantasy  \n",
       "3                                     Comedy|Romance  \n",
       "4                               Comedy|Drama|Romance  \n",
       "5                                             Comedy  "
      ]
     },
     "execution_count": 4,
     "metadata": {},
     "output_type": "execute_result"
    }
   ],
   "source": [
    "m_df = pd.read_csv(\"ml-20m/movies.csv\")\n",
    "m_df.set_index(\"movieId\", inplace=True)\n",
    "m_df.head()"
   ]
  },
  {
   "cell_type": "code",
   "execution_count": 5,
   "metadata": {},
   "outputs": [
    {
     "ename": "MemoryError",
     "evalue": "",
     "output_type": "error",
     "traceback": [
      "\u001b[1;31m---------------------------------------------------------------------------\u001b[0m",
      "\u001b[1;31mMemoryError\u001b[0m                               Traceback (most recent call last)",
      "\u001b[1;32m<ipython-input-5-29d6e906f6cc>\u001b[0m in \u001b[0;36m<module>\u001b[1;34m()\u001b[0m\n\u001b[1;32m----> 1\u001b[1;33m \u001b[0mr_df\u001b[0m \u001b[1;33m=\u001b[0m \u001b[0mpd\u001b[0m\u001b[1;33m.\u001b[0m\u001b[0mread_csv\u001b[0m\u001b[1;33m(\u001b[0m\u001b[1;34m\"ml-20m/ratings.csv\"\u001b[0m\u001b[1;33m)\u001b[0m\u001b[1;33m\u001b[0m\u001b[0m\n\u001b[0m\u001b[0;32m      2\u001b[0m \u001b[0mr_df\u001b[0m\u001b[1;33m.\u001b[0m\u001b[0mhead\u001b[0m\u001b[1;33m(\u001b[0m\u001b[1;33m)\u001b[0m\u001b[1;33m\u001b[0m\u001b[0m\n",
      "\u001b[1;32mC:\\data_sci\\lib\\site-packages\\pandas\\io\\parsers.py\u001b[0m in \u001b[0;36mparser_f\u001b[1;34m(filepath_or_buffer, sep, delimiter, header, names, index_col, usecols, squeeze, prefix, mangle_dupe_cols, dtype, engine, converters, true_values, false_values, skipinitialspace, skiprows, nrows, na_values, keep_default_na, na_filter, verbose, skip_blank_lines, parse_dates, infer_datetime_format, keep_date_col, date_parser, dayfirst, iterator, chunksize, compression, thousands, decimal, lineterminator, quotechar, quoting, escapechar, comment, encoding, dialect, tupleize_cols, error_bad_lines, warn_bad_lines, skipfooter, skip_footer, doublequote, delim_whitespace, as_recarray, compact_ints, use_unsigned, low_memory, buffer_lines, memory_map, float_precision)\u001b[0m\n\u001b[0;32m    653\u001b[0m                     skip_blank_lines=skip_blank_lines)\n\u001b[0;32m    654\u001b[0m \u001b[1;33m\u001b[0m\u001b[0m\n\u001b[1;32m--> 655\u001b[1;33m         \u001b[1;32mreturn\u001b[0m \u001b[0m_read\u001b[0m\u001b[1;33m(\u001b[0m\u001b[0mfilepath_or_buffer\u001b[0m\u001b[1;33m,\u001b[0m \u001b[0mkwds\u001b[0m\u001b[1;33m)\u001b[0m\u001b[1;33m\u001b[0m\u001b[0m\n\u001b[0m\u001b[0;32m    656\u001b[0m \u001b[1;33m\u001b[0m\u001b[0m\n\u001b[0;32m    657\u001b[0m     \u001b[0mparser_f\u001b[0m\u001b[1;33m.\u001b[0m\u001b[0m__name__\u001b[0m \u001b[1;33m=\u001b[0m \u001b[0mname\u001b[0m\u001b[1;33m\u001b[0m\u001b[0m\n",
      "\u001b[1;32mC:\\data_sci\\lib\\site-packages\\pandas\\io\\parsers.py\u001b[0m in \u001b[0;36m_read\u001b[1;34m(filepath_or_buffer, kwds)\u001b[0m\n\u001b[0;32m    409\u001b[0m \u001b[1;33m\u001b[0m\u001b[0m\n\u001b[0;32m    410\u001b[0m     \u001b[1;32mtry\u001b[0m\u001b[1;33m:\u001b[0m\u001b[1;33m\u001b[0m\u001b[0m\n\u001b[1;32m--> 411\u001b[1;33m         \u001b[0mdata\u001b[0m \u001b[1;33m=\u001b[0m \u001b[0mparser\u001b[0m\u001b[1;33m.\u001b[0m\u001b[0mread\u001b[0m\u001b[1;33m(\u001b[0m\u001b[0mnrows\u001b[0m\u001b[1;33m)\u001b[0m\u001b[1;33m\u001b[0m\u001b[0m\n\u001b[0m\u001b[0;32m    412\u001b[0m     \u001b[1;32mfinally\u001b[0m\u001b[1;33m:\u001b[0m\u001b[1;33m\u001b[0m\u001b[0m\n\u001b[0;32m    413\u001b[0m         \u001b[0mparser\u001b[0m\u001b[1;33m.\u001b[0m\u001b[0mclose\u001b[0m\u001b[1;33m(\u001b[0m\u001b[1;33m)\u001b[0m\u001b[1;33m\u001b[0m\u001b[0m\n",
      "\u001b[1;32mC:\\data_sci\\lib\\site-packages\\pandas\\io\\parsers.py\u001b[0m in \u001b[0;36mread\u001b[1;34m(self, nrows)\u001b[0m\n\u001b[0;32m    998\u001b[0m             \u001b[0mnew_rows\u001b[0m \u001b[1;33m=\u001b[0m \u001b[0mlen\u001b[0m\u001b[1;33m(\u001b[0m\u001b[0mindex\u001b[0m\u001b[1;33m)\u001b[0m\u001b[1;33m\u001b[0m\u001b[0m\n\u001b[0;32m    999\u001b[0m \u001b[1;33m\u001b[0m\u001b[0m\n\u001b[1;32m-> 1000\u001b[1;33m         \u001b[0mdf\u001b[0m \u001b[1;33m=\u001b[0m \u001b[0mDataFrame\u001b[0m\u001b[1;33m(\u001b[0m\u001b[0mcol_dict\u001b[0m\u001b[1;33m,\u001b[0m \u001b[0mcolumns\u001b[0m\u001b[1;33m=\u001b[0m\u001b[0mcolumns\u001b[0m\u001b[1;33m,\u001b[0m \u001b[0mindex\u001b[0m\u001b[1;33m=\u001b[0m\u001b[0mindex\u001b[0m\u001b[1;33m)\u001b[0m\u001b[1;33m\u001b[0m\u001b[0m\n\u001b[0m\u001b[0;32m   1001\u001b[0m \u001b[1;33m\u001b[0m\u001b[0m\n\u001b[0;32m   1002\u001b[0m         \u001b[0mself\u001b[0m\u001b[1;33m.\u001b[0m\u001b[0m_currow\u001b[0m \u001b[1;33m+=\u001b[0m \u001b[0mnew_rows\u001b[0m\u001b[1;33m\u001b[0m\u001b[0m\n",
      "\u001b[1;32mC:\\data_sci\\lib\\site-packages\\pandas\\core\\frame.py\u001b[0m in \u001b[0;36m__init__\u001b[1;34m(self, data, index, columns, dtype, copy)\u001b[0m\n\u001b[0;32m    273\u001b[0m                                  dtype=dtype, copy=copy)\n\u001b[0;32m    274\u001b[0m         \u001b[1;32melif\u001b[0m \u001b[0misinstance\u001b[0m\u001b[1;33m(\u001b[0m\u001b[0mdata\u001b[0m\u001b[1;33m,\u001b[0m \u001b[0mdict\u001b[0m\u001b[1;33m)\u001b[0m\u001b[1;33m:\u001b[0m\u001b[1;33m\u001b[0m\u001b[0m\n\u001b[1;32m--> 275\u001b[1;33m             \u001b[0mmgr\u001b[0m \u001b[1;33m=\u001b[0m \u001b[0mself\u001b[0m\u001b[1;33m.\u001b[0m\u001b[0m_init_dict\u001b[0m\u001b[1;33m(\u001b[0m\u001b[0mdata\u001b[0m\u001b[1;33m,\u001b[0m \u001b[0mindex\u001b[0m\u001b[1;33m,\u001b[0m \u001b[0mcolumns\u001b[0m\u001b[1;33m,\u001b[0m \u001b[0mdtype\u001b[0m\u001b[1;33m=\u001b[0m\u001b[0mdtype\u001b[0m\u001b[1;33m)\u001b[0m\u001b[1;33m\u001b[0m\u001b[0m\n\u001b[0m\u001b[0;32m    276\u001b[0m         \u001b[1;32melif\u001b[0m \u001b[0misinstance\u001b[0m\u001b[1;33m(\u001b[0m\u001b[0mdata\u001b[0m\u001b[1;33m,\u001b[0m \u001b[0mma\u001b[0m\u001b[1;33m.\u001b[0m\u001b[0mMaskedArray\u001b[0m\u001b[1;33m)\u001b[0m\u001b[1;33m:\u001b[0m\u001b[1;33m\u001b[0m\u001b[0m\n\u001b[0;32m    277\u001b[0m             \u001b[1;32mimport\u001b[0m \u001b[0mnumpy\u001b[0m\u001b[1;33m.\u001b[0m\u001b[0mma\u001b[0m\u001b[1;33m.\u001b[0m\u001b[0mmrecords\u001b[0m \u001b[1;32mas\u001b[0m \u001b[0mmrecords\u001b[0m\u001b[1;33m\u001b[0m\u001b[0m\n",
      "\u001b[1;32mC:\\data_sci\\lib\\site-packages\\pandas\\core\\frame.py\u001b[0m in \u001b[0;36m_init_dict\u001b[1;34m(self, data, index, columns, dtype)\u001b[0m\n\u001b[0;32m    409\u001b[0m             \u001b[0marrays\u001b[0m \u001b[1;33m=\u001b[0m \u001b[1;33m[\u001b[0m\u001b[0mdata\u001b[0m\u001b[1;33m[\u001b[0m\u001b[0mk\u001b[0m\u001b[1;33m]\u001b[0m \u001b[1;32mfor\u001b[0m \u001b[0mk\u001b[0m \u001b[1;32min\u001b[0m \u001b[0mkeys\u001b[0m\u001b[1;33m]\u001b[0m\u001b[1;33m\u001b[0m\u001b[0m\n\u001b[0;32m    410\u001b[0m \u001b[1;33m\u001b[0m\u001b[0m\n\u001b[1;32m--> 411\u001b[1;33m         \u001b[1;32mreturn\u001b[0m \u001b[0m_arrays_to_mgr\u001b[0m\u001b[1;33m(\u001b[0m\u001b[0marrays\u001b[0m\u001b[1;33m,\u001b[0m \u001b[0mdata_names\u001b[0m\u001b[1;33m,\u001b[0m \u001b[0mindex\u001b[0m\u001b[1;33m,\u001b[0m \u001b[0mcolumns\u001b[0m\u001b[1;33m,\u001b[0m \u001b[0mdtype\u001b[0m\u001b[1;33m=\u001b[0m\u001b[0mdtype\u001b[0m\u001b[1;33m)\u001b[0m\u001b[1;33m\u001b[0m\u001b[0m\n\u001b[0m\u001b[0;32m    412\u001b[0m \u001b[1;33m\u001b[0m\u001b[0m\n\u001b[0;32m    413\u001b[0m     \u001b[1;32mdef\u001b[0m \u001b[0m_init_ndarray\u001b[0m\u001b[1;33m(\u001b[0m\u001b[0mself\u001b[0m\u001b[1;33m,\u001b[0m \u001b[0mvalues\u001b[0m\u001b[1;33m,\u001b[0m \u001b[0mindex\u001b[0m\u001b[1;33m,\u001b[0m \u001b[0mcolumns\u001b[0m\u001b[1;33m,\u001b[0m \u001b[0mdtype\u001b[0m\u001b[1;33m=\u001b[0m\u001b[1;32mNone\u001b[0m\u001b[1;33m,\u001b[0m \u001b[0mcopy\u001b[0m\u001b[1;33m=\u001b[0m\u001b[1;32mFalse\u001b[0m\u001b[1;33m)\u001b[0m\u001b[1;33m:\u001b[0m\u001b[1;33m\u001b[0m\u001b[0m\n",
      "\u001b[1;32mC:\\data_sci\\lib\\site-packages\\pandas\\core\\frame.py\u001b[0m in \u001b[0;36m_arrays_to_mgr\u001b[1;34m(arrays, arr_names, index, columns, dtype)\u001b[0m\n\u001b[0;32m   5602\u001b[0m     \u001b[0maxes\u001b[0m \u001b[1;33m=\u001b[0m \u001b[1;33m[\u001b[0m\u001b[0m_ensure_index\u001b[0m\u001b[1;33m(\u001b[0m\u001b[0mcolumns\u001b[0m\u001b[1;33m)\u001b[0m\u001b[1;33m,\u001b[0m \u001b[0m_ensure_index\u001b[0m\u001b[1;33m(\u001b[0m\u001b[0mindex\u001b[0m\u001b[1;33m)\u001b[0m\u001b[1;33m]\u001b[0m\u001b[1;33m\u001b[0m\u001b[0m\n\u001b[0;32m   5603\u001b[0m \u001b[1;33m\u001b[0m\u001b[0m\n\u001b[1;32m-> 5604\u001b[1;33m     \u001b[1;32mreturn\u001b[0m \u001b[0mcreate_block_manager_from_arrays\u001b[0m\u001b[1;33m(\u001b[0m\u001b[0marrays\u001b[0m\u001b[1;33m,\u001b[0m \u001b[0marr_names\u001b[0m\u001b[1;33m,\u001b[0m \u001b[0maxes\u001b[0m\u001b[1;33m)\u001b[0m\u001b[1;33m\u001b[0m\u001b[0m\n\u001b[0m\u001b[0;32m   5605\u001b[0m \u001b[1;33m\u001b[0m\u001b[0m\n\u001b[0;32m   5606\u001b[0m \u001b[1;33m\u001b[0m\u001b[0m\n",
      "\u001b[1;32mC:\\data_sci\\lib\\site-packages\\pandas\\core\\internals.py\u001b[0m in \u001b[0;36mcreate_block_manager_from_arrays\u001b[1;34m(arrays, names, axes)\u001b[0m\n\u001b[0;32m   4307\u001b[0m \u001b[1;33m\u001b[0m\u001b[0m\n\u001b[0;32m   4308\u001b[0m     \u001b[1;32mtry\u001b[0m\u001b[1;33m:\u001b[0m\u001b[1;33m\u001b[0m\u001b[0m\n\u001b[1;32m-> 4309\u001b[1;33m         \u001b[0mblocks\u001b[0m \u001b[1;33m=\u001b[0m \u001b[0mform_blocks\u001b[0m\u001b[1;33m(\u001b[0m\u001b[0marrays\u001b[0m\u001b[1;33m,\u001b[0m \u001b[0mnames\u001b[0m\u001b[1;33m,\u001b[0m \u001b[0maxes\u001b[0m\u001b[1;33m)\u001b[0m\u001b[1;33m\u001b[0m\u001b[0m\n\u001b[0m\u001b[0;32m   4310\u001b[0m         \u001b[0mmgr\u001b[0m \u001b[1;33m=\u001b[0m \u001b[0mBlockManager\u001b[0m\u001b[1;33m(\u001b[0m\u001b[0mblocks\u001b[0m\u001b[1;33m,\u001b[0m \u001b[0maxes\u001b[0m\u001b[1;33m)\u001b[0m\u001b[1;33m\u001b[0m\u001b[0m\n\u001b[0;32m   4311\u001b[0m         \u001b[0mmgr\u001b[0m\u001b[1;33m.\u001b[0m\u001b[0m_consolidate_inplace\u001b[0m\u001b[1;33m(\u001b[0m\u001b[1;33m)\u001b[0m\u001b[1;33m\u001b[0m\u001b[0m\n",
      "\u001b[1;32mC:\\data_sci\\lib\\site-packages\\pandas\\core\\internals.py\u001b[0m in \u001b[0;36mform_blocks\u001b[1;34m(arrays, names, axes)\u001b[0m\n\u001b[0;32m   4379\u001b[0m \u001b[1;33m\u001b[0m\u001b[0m\n\u001b[0;32m   4380\u001b[0m     \u001b[1;32mif\u001b[0m \u001b[0mlen\u001b[0m\u001b[1;33m(\u001b[0m\u001b[0mint_items\u001b[0m\u001b[1;33m)\u001b[0m\u001b[1;33m:\u001b[0m\u001b[1;33m\u001b[0m\u001b[0m\n\u001b[1;32m-> 4381\u001b[1;33m         \u001b[0mint_blocks\u001b[0m \u001b[1;33m=\u001b[0m \u001b[0m_multi_blockify\u001b[0m\u001b[1;33m(\u001b[0m\u001b[0mint_items\u001b[0m\u001b[1;33m)\u001b[0m\u001b[1;33m\u001b[0m\u001b[0m\n\u001b[0m\u001b[0;32m   4382\u001b[0m         \u001b[0mblocks\u001b[0m\u001b[1;33m.\u001b[0m\u001b[0mextend\u001b[0m\u001b[1;33m(\u001b[0m\u001b[0mint_blocks\u001b[0m\u001b[1;33m)\u001b[0m\u001b[1;33m\u001b[0m\u001b[0m\n\u001b[0;32m   4383\u001b[0m \u001b[1;33m\u001b[0m\u001b[0m\n",
      "\u001b[1;32mC:\\data_sci\\lib\\site-packages\\pandas\\core\\internals.py\u001b[0m in \u001b[0;36m_multi_blockify\u001b[1;34m(tuples, dtype)\u001b[0m\n\u001b[0;32m   4448\u001b[0m     \u001b[1;32mfor\u001b[0m \u001b[0mdtype\u001b[0m\u001b[1;33m,\u001b[0m \u001b[0mtup_block\u001b[0m \u001b[1;32min\u001b[0m \u001b[0mgrouper\u001b[0m\u001b[1;33m:\u001b[0m\u001b[1;33m\u001b[0m\u001b[0m\n\u001b[0;32m   4449\u001b[0m \u001b[1;33m\u001b[0m\u001b[0m\n\u001b[1;32m-> 4450\u001b[1;33m         \u001b[0mvalues\u001b[0m\u001b[1;33m,\u001b[0m \u001b[0mplacement\u001b[0m \u001b[1;33m=\u001b[0m \u001b[0m_stack_arrays\u001b[0m\u001b[1;33m(\u001b[0m\u001b[0mlist\u001b[0m\u001b[1;33m(\u001b[0m\u001b[0mtup_block\u001b[0m\u001b[1;33m)\u001b[0m\u001b[1;33m,\u001b[0m \u001b[0mdtype\u001b[0m\u001b[1;33m)\u001b[0m\u001b[1;33m\u001b[0m\u001b[0m\n\u001b[0m\u001b[0;32m   4451\u001b[0m \u001b[1;33m\u001b[0m\u001b[0m\n\u001b[0;32m   4452\u001b[0m         \u001b[0mblock\u001b[0m \u001b[1;33m=\u001b[0m \u001b[0mmake_block\u001b[0m\u001b[1;33m(\u001b[0m\u001b[0mvalues\u001b[0m\u001b[1;33m,\u001b[0m \u001b[0mplacement\u001b[0m\u001b[1;33m=\u001b[0m\u001b[0mplacement\u001b[0m\u001b[1;33m)\u001b[0m\u001b[1;33m\u001b[0m\u001b[0m\n",
      "\u001b[1;32mC:\\data_sci\\lib\\site-packages\\pandas\\core\\internals.py\u001b[0m in \u001b[0;36m_stack_arrays\u001b[1;34m(tuples, dtype)\u001b[0m\n\u001b[0;32m   4491\u001b[0m     \u001b[0mshape\u001b[0m \u001b[1;33m=\u001b[0m \u001b[1;33m(\u001b[0m\u001b[0mlen\u001b[0m\u001b[1;33m(\u001b[0m\u001b[0marrays\u001b[0m\u001b[1;33m)\u001b[0m\u001b[1;33m,\u001b[0m\u001b[1;33m)\u001b[0m \u001b[1;33m+\u001b[0m \u001b[0m_shape_compat\u001b[0m\u001b[1;33m(\u001b[0m\u001b[0mfirst\u001b[0m\u001b[1;33m)\u001b[0m\u001b[1;33m\u001b[0m\u001b[0m\n\u001b[0;32m   4492\u001b[0m \u001b[1;33m\u001b[0m\u001b[0m\n\u001b[1;32m-> 4493\u001b[1;33m     \u001b[0mstacked\u001b[0m \u001b[1;33m=\u001b[0m \u001b[0mnp\u001b[0m\u001b[1;33m.\u001b[0m\u001b[0mempty\u001b[0m\u001b[1;33m(\u001b[0m\u001b[0mshape\u001b[0m\u001b[1;33m,\u001b[0m \u001b[0mdtype\u001b[0m\u001b[1;33m=\u001b[0m\u001b[0mdtype\u001b[0m\u001b[1;33m)\u001b[0m\u001b[1;33m\u001b[0m\u001b[0m\n\u001b[0m\u001b[0;32m   4494\u001b[0m     \u001b[1;32mfor\u001b[0m \u001b[0mi\u001b[0m\u001b[1;33m,\u001b[0m \u001b[0marr\u001b[0m \u001b[1;32min\u001b[0m \u001b[0menumerate\u001b[0m\u001b[1;33m(\u001b[0m\u001b[0marrays\u001b[0m\u001b[1;33m)\u001b[0m\u001b[1;33m:\u001b[0m\u001b[1;33m\u001b[0m\u001b[0m\n\u001b[0;32m   4495\u001b[0m         \u001b[0mstacked\u001b[0m\u001b[1;33m[\u001b[0m\u001b[0mi\u001b[0m\u001b[1;33m]\u001b[0m \u001b[1;33m=\u001b[0m \u001b[0m_asarray_compat\u001b[0m\u001b[1;33m(\u001b[0m\u001b[0marr\u001b[0m\u001b[1;33m)\u001b[0m\u001b[1;33m\u001b[0m\u001b[0m\n",
      "\u001b[1;31mMemoryError\u001b[0m: "
     ]
    }
   ],
   "source": [
    "r_df = pd.read_csv(\"ml-20m/ratings.csv\")\n",
    "r_df.head()"
   ]
  },
  {
   "cell_type": "code",
   "execution_count": 4,
   "metadata": {},
   "outputs": [
    {
     "data": {
      "text/plain": [
       "<matplotlib.axes._subplots.AxesSubplot at 0x10c3a62e8>"
      ]
     },
     "execution_count": 4,
     "metadata": {},
     "output_type": "execute_result"
    },
    {
     "data": {
      "image/png": "[encoded data removed]",
      "text/plain": [
       "<matplotlib.figure.Figure at 0x10c893470>"
      ]
     },
     "metadata": {},
     "output_type": "display_data"
    }
   ],
   "source": [
    "r_df.rating.hist()"
   ]
  },
  {
   "cell_type": "code",
   "execution_count": 5,
   "metadata": {},
   "outputs": [
    {
     "data": {
      "text/plain": [
       "(20, 9254)"
      ]
     },
     "execution_count": 5,
     "metadata": {},
     "output_type": "execute_result"
    }
   ],
   "source": [
    "rating_per_user = r_df.userId.value_counts()\n",
    "rating_per_user.min(), rating_per_user.max()"
   ]
  },
  {
   "cell_type": "code",
   "execution_count": 6,
   "metadata": {},
   "outputs": [
    {
     "data": {
      "text/plain": [
       "(1, 67310)"
      ]
     },
     "execution_count": 6,
     "metadata": {},
     "output_type": "execute_result"
    }
   ],
   "source": [
    "rating_per_movie = r_df.movieId.value_counts()\n",
    "rating_per_movie.min(), rating_per_movie.max()"
   ]
  },
  {
   "cell_type": "markdown",
   "metadata": {},
   "source": [
    "## Popularity"
   ]
  },
  {
   "cell_type": "code",
   "execution_count": 7,
   "metadata": {},
   "outputs": [
    {
     "name": "stdout",
     "output_type": "stream",
     "text": [
      "Pulp Fiction (1994) : 67310\n",
      "Forrest Gump (1994) : 66172\n",
      "Shawshank Redemption, The (1994) : 63366\n",
      "Silence of the Lambs, The (1991) : 63299\n",
      "Jurassic Park (1993) : 59715\n",
      "Star Wars: Episode IV - A New Hope (1977) : 54502\n",
      "Braveheart (1995) : 53769\n",
      "Terminator 2: Judgment Day (1991) : 52244\n",
      "Matrix, The (1999) : 51334\n",
      "Schindler's List (1993) : 50054\n"
     ]
    }
   ],
   "source": [
    "for movie_id, score in rating_per_movie.head(10).iteritems():\n",
    "    # iteritems - то же самое, что items, но возвращает итератор\n",
    "    print(m_df.loc[movie_id].title, \":\", score)"
   ]
  },
  {
   "cell_type": "markdown",
   "metadata": {},
   "source": [
    "## А каких годов у нас фильмы?"
   ]
  },
  {
   "cell_type": "code",
   "execution_count": 8,
   "metadata": {},
   "outputs": [
    {
     "name": "stdout",
     "output_type": "stream",
     "text": [
      "Babylon 5\n",
      "Millions Game, The (Das Millionenspiel)\n",
      "Bicycle, Spoon, Apple (Bicicleta, cullera, poma)\n",
      "Brazil: In the Shadow of the Stadiums\n",
      "Slaying the Badger\n",
      "Tatort: Im Schmerz geboren\n",
      "National Theatre Live: Frankenstein\n",
      "The Court-Martial of Jackie Robinson\n",
      "In Our Garden\n",
      "Stephen Fry In America - New World\n",
      "Two: The Story of Roman & Nyro\n",
      "Li'l Quinquin\n",
      "A Year Along the Abandoned Road\n",
      "Body/Cialo\n",
      "Polskie gówno\n",
      "The Third Reich: The Rise & Fall\n",
      "My Own Man\n",
      "Moving Alan\n",
      "Michael Laudrup - en Fodboldspiller\n"
     ]
    }
   ],
   "source": [
    "def _get_year(title):\n",
    "    par_pos = title.rfind(\"(\")\n",
    "    try:\n",
    "        year = int(title[(par_pos + 1): (par_pos + 5)])\n",
    "    except:\n",
    "        year = None\n",
    "        print(title)\n",
    "    return year\n",
    "    \n",
    "m_df[\"ReleaseYear\"] = m_df.title.apply(_get_year)"
   ]
  },
  {
   "cell_type": "code",
   "execution_count": 9,
   "metadata": {},
   "outputs": [
    {
     "data": {
      "text/plain": [
       "<matplotlib.axes._subplots.AxesSubplot at 0x107bc2080>"
      ]
     },
     "execution_count": 9,
     "metadata": {},
     "output_type": "execute_result"
    },
    {
     "data": {
      "image/png": "[encoded data removed]",
      "text/plain": [
       "<matplotlib.figure.Figure at 0x107bc2a20>"
      ]
     },
     "metadata": {},
     "output_type": "display_data"
    }
   ],
   "source": [
    "plt.figure(figsize=(12, 5))\n",
    "m_df.ReleaseYear.hist(bins=15)"
   ]
  },
  {
   "cell_type": "code",
   "execution_count": 10,
   "metadata": {
    "scrolled": true
   },
   "outputs": [
    {
     "data": {
      "text/plain": [
       "(1891.0, 2015.0)"
      ]
     },
     "execution_count": 10,
     "metadata": {},
     "output_type": "execute_result"
    }
   ],
   "source": [
    "m_df.ReleaseYear.min(), m_df.ReleaseYear.max()"
   ]
  },
  {
   "cell_type": "markdown",
   "metadata": {},
   "source": [
    "## Старый фильм == бОльшая популярность?"
   ]
  },
  {
   "cell_type": "code",
   "execution_count": 11,
   "metadata": {
    "collapsed": true
   },
   "outputs": [],
   "source": [
    "m_df[\"nRatings\"] = m_df.apply(lambda x: rating_per_movie.get(x.name, 0), axis=1)"
   ]
  },
  {
   "cell_type": "code",
   "execution_count": 12,
   "metadata": {},
   "outputs": [
    {
     "data": {
      "text/plain": [
       "<matplotlib.axes._subplots.AxesSubplot at 0x10c6ac7b8>"
      ]
     },
     "execution_count": 12,
     "metadata": {},
     "output_type": "execute_result"
    },
    {
     "data": {
      "image/png": "[encoded data removed]",
      "text/plain": [
       "<matplotlib.figure.Figure at 0x107bb1eb8>"
      ]
     },
     "metadata": {},
     "output_type": "display_data"
    }
   ],
   "source": [
    "m_df[[\"ReleaseYear\", \"nRatings\"]].dropna().groupby(\"ReleaseYear\").mean().plot(kind='bar', figsize=(18, 5))"
   ]
  },
  {
   "cell_type": "markdown",
   "metadata": {},
   "source": [
    "## Нормализация по количесту лет"
   ]
  },
  {
   "cell_type": "code",
   "execution_count": 13,
   "metadata": {},
   "outputs": [
    {
     "data": {
      "text/plain": [
       "2015.0"
      ]
     },
     "execution_count": 13,
     "metadata": {},
     "output_type": "execute_result"
    }
   ],
   "source": [
    "max_year = m_df.ReleaseYear.max()\n",
    "max_year"
   ]
  },
  {
   "cell_type": "code",
   "execution_count": 14,
   "metadata": {
    "collapsed": true
   },
   "outputs": [],
   "source": [
    "normalized_n_ratings = m_df \\\n",
    "    .dropna(subset=[\"ReleaseYear\"]) \\\n",
    "    .apply(lambda x: x.nRatings / (max_year - x.ReleaseYear + 1), axis=1) \\\n",
    "    .sort_values(ascending=False) \\\n",
    "    .head(10)"
   ]
  },
  {
   "cell_type": "code",
   "execution_count": 15,
   "metadata": {},
   "outputs": [
    {
     "name": "stdout",
     "output_type": "stream",
     "text": [
      "Pulp Fiction (1994) : 3059.54545455\n",
      "Matrix, The (1999) : 3019.64705882\n",
      "Forrest Gump (1994) : 3007.81818182\n",
      "Shawshank Redemption, The (1994) : 2880.27272727\n",
      "American Beauty (1999) : 2646.29411765\n",
      "Jurassic Park (1993) : 2596.30434783\n",
      "Braveheart (1995) : 2560.42857143\n",
      "Dark Knight, The (2008) : 2554.75\n",
      "Silence of the Lambs, The (1991) : 2531.96\n",
      "Lord of the Rings: The Fellowship of the Ring, The (2001) : 2503.53333333\n"
     ]
    }
   ],
   "source": [
    "for movie_id, score in normalized_n_ratings.iteritems():\n",
    "    print(m_df.loc[movie_id].title, \":\", score)"
   ]
  },
  {
   "cell_type": "code",
   "execution_count": 16,
   "metadata": {},
   "outputs": [
    {
     "name": "stdout",
     "output_type": "stream",
     "text": [
      "Pulp Fiction (1994) : 67310\n",
      "Forrest Gump (1994) : 66172\n",
      "Shawshank Redemption, The (1994) : 63366\n",
      "Silence of the Lambs, The (1991) : 63299\n",
      "Jurassic Park (1993) : 59715\n",
      "Star Wars: Episode IV - A New Hope (1977) : 54502\n",
      "Braveheart (1995) : 53769\n",
      "Terminator 2: Judgment Day (1991) : 52244\n",
      "Matrix, The (1999) : 51334\n",
      "Schindler's List (1993) : 50054\n"
     ]
    }
   ],
   "source": [
    "for movie_id, score in rating_per_movie.head(10).iteritems():\n",
    "    print(m_df.loc[movie_id].title, \":\", score)"
   ]
  },
  {
   "cell_type": "markdown",
   "metadata": {},
   "source": [
    "## Trendy"
   ]
  },
  {
   "cell_type": "code",
   "execution_count": 17,
   "metadata": {},
   "outputs": [
    {
     "name": "stdout",
     "output_type": "stream",
     "text": [
      "Inception (2010) : 14023\n",
      "Shutter Island (2010) : 5930\n",
      "Toy Story 3 (2010) : 5781\n",
      "King's Speech, The (2010) : 5629\n",
      "Black Swan (2010) : 5287\n",
      "Social Network, The (2010) : 5264\n",
      "Avengers, The (2012) : 4959\n",
      "Kick-Ass (2010) : 4774\n",
      "Dark Knight Rises, The (2012) : 4770\n",
      "How to Train Your Dragon (2010) : 4761\n"
     ]
    }
   ],
   "source": [
    "recent_movies = m_df[m_df.ReleaseYear >= 2010][[\"title\", \"nRatings\"]].sort_values(\"nRatings\", ascending=False)\n",
    "for t in recent_movies.head(10).itertuples():\n",
    "    print(t.title, \":\", t.nRatings)"
   ]
  },
  {
   "cell_type": "markdown",
   "metadata": {},
   "source": [
    "## Средний рейтинг"
   ]
  },
  {
   "cell_type": "code",
   "execution_count": 18,
   "metadata": {
    "collapsed": true
   },
   "outputs": [],
   "source": [
    "avg_rating_per_movie = r_df[[\"movieId\", \"rating\"]].groupby(\"movieId\").rating.mean().sort_values(ascending=False)"
   ]
  },
  {
   "cell_type": "code",
   "execution_count": 19,
   "metadata": {},
   "outputs": [
    {
     "name": "stdout",
     "output_type": "stream",
     "text": [
      "Divorce (1945) : 5.0\n",
      "Summer Wishes, Winter Dreams (1973) : 5.0\n",
      "The Beautiful Story (1992) : 5.0\n",
      "Sierra, La (2005) : 5.0\n",
      "A Night for Dying Tigers (2010) : 5.0\n",
      "The House on 56th Street (1933) : 5.0\n",
      "Such Hawks Such Hounds (2008) : 5.0\n",
      "Story of Science, The (2010) : 5.0\n",
      "De la servitude moderne (2009) : 5.0\n",
      "Small Roads (2011) : 5.0\n"
     ]
    }
   ],
   "source": [
    "for movie_id, score in avg_rating_per_movie.head(10).iteritems():\n",
    "    print(m_df.loc[movie_id].title, \":\", score)"
   ]
  },
  {
   "cell_type": "markdown",
   "metadata": {},
   "source": [
    "### Посмотрим на количество рейтингов"
   ]
  },
  {
   "cell_type": "code",
   "execution_count": 20,
   "metadata": {},
   "outputs": [
    {
     "name": "stdout",
     "output_type": "stream",
     "text": [
      "Divorce (1945) (1)\n",
      "Summer Wishes, Winter Dreams (1973) (1)\n",
      "The Beautiful Story (1992) (1)\n",
      "Sierra, La (2005) (1)\n",
      "A Night for Dying Tigers (2010) (1)\n",
      "The House on 56th Street (1933) (1)\n",
      "Such Hawks Such Hounds (2008) (1)\n",
      "Story of Science, The (2010) (1)\n",
      "De la servitude moderne (2009) (1)\n",
      "Small Roads (2011) (1)\n"
     ]
    }
   ],
   "source": [
    "for movie_id, score in avg_rating_per_movie.head(10).iteritems():\n",
    "    m = m_df.loc[movie_id]\n",
    "    print(m.title, \"(%s)\" % m.nRatings)"
   ]
  },
  {
   "cell_type": "markdown",
   "metadata": {},
   "source": [
    "# Ассоциации"
   ]
  },
  {
   "cell_type": "markdown",
   "metadata": {},
   "source": [
    "Простая ассоциация:\n",
    "$$A(x ,y) = \\frac{|X \\cap Y|}{|X|}$$\n",
    "\n",
    "* x, y - фильмы\n",
    "* X - пользователи, которые посмотрели x\n",
    "* Y - пользователи, которые посмотрели y"
   ]
  },
  {
   "cell_type": "code",
   "execution_count": 21,
   "metadata": {},
   "outputs": [
    {
     "name": "stdout",
     "output_type": "stream",
     "text": [
      "1 131262 26744\n",
      "1 138493 138493\n"
     ]
    }
   ],
   "source": [
    "print(r_df.movieId.min(), r_df.movieId.max(), r_df.movieId.unique().size)\n",
    "print(r_df.userId.min(), r_df.userId.max(), r_df.userId.unique().size)"
   ]
  },
  {
   "cell_type": "code",
   "execution_count": 22,
   "metadata": {
    "collapsed": true
   },
   "outputs": [],
   "source": [
    "def get_iu_data():\n",
    "    rows = []\n",
    "    cols = []\n",
    "\n",
    "    iid_to_row = {}\n",
    "    uid_to_col = {}\n",
    "\n",
    "    for t in r_df.itertuples():\n",
    "        row_id = iid_to_row.setdefault(t.movieId, len(iid_to_row))\n",
    "        col_id = uid_to_col.setdefault(t.userId, len(uid_to_col))\n",
    "\n",
    "        rows.append(row_id)\n",
    "        cols.append(col_id)\n",
    "\n",
    "    m = csr_matrix((np.ones(len(rows)), (rows, cols)))\n",
    "    return m, iid_to_row, uid_to_col\n",
    "\n",
    "iu_m, iid_to_row, uid_to_col = get_iu_data()"
   ]
  },
  {
   "cell_type": "code",
   "execution_count": 23,
   "metadata": {
    "collapsed": true
   },
   "outputs": [],
   "source": [
    "m = None"
   ]
  },
  {
   "cell_type": "code",
   "execution_count": 24,
   "metadata": {
    "collapsed": true
   },
   "outputs": [],
   "source": [
    "assert np.all(iu_m.data == 1)"
   ]
  },
  {
   "cell_type": "code",
   "execution_count": 25,
   "metadata": {},
   "outputs": [
    {
     "name": "stdout",
     "output_type": "stream",
     "text": [
      "Shape: (26744, 138493)\n",
      "Density: 0.0053998478135544505\n"
     ]
    }
   ],
   "source": [
    "print(\"Shape:\", iu_m.shape)\n",
    "print(\"Density:\", iu_m.nnz / (iu_m.shape[0] * iu_m.shape[1]))"
   ]
  },
  {
   "cell_type": "code",
   "execution_count": 26,
   "metadata": {},
   "outputs": [
    {
     "data": {
      "text/html": [
       "<div>\n",
       "<style>\n",
       "    .dataframe thead tr:only-child th {\n",
       "        text-align: right;\n",
       "    }\n",
       "\n",
       "    .dataframe thead th {\n",
       "        text-align: left;\n",
       "    }\n",
       "\n",
       "    .dataframe tbody tr th {\n",
       "        vertical-align: top;\n",
       "    }\n",
       "</style>\n",
       "<table border=\"1\" class=\"dataframe\">\n",
       "  <thead>\n",
       "    <tr style=\"text-align: right;\">\n",
       "      <th></th>\n",
       "      <th>title</th>\n",
       "      <th>genres</th>\n",
       "      <th>ReleaseYear</th>\n",
       "      <th>nRatings</th>\n",
       "    </tr>\n",
       "    <tr>\n",
       "      <th>movieId</th>\n",
       "      <th></th>\n",
       "      <th></th>\n",
       "      <th></th>\n",
       "      <th></th>\n",
       "    </tr>\n",
       "  </thead>\n",
       "  <tbody>\n",
       "    <tr>\n",
       "      <th>104841</th>\n",
       "      <td>Gravity (2013)</td>\n",
       "      <td>Action|Sci-Fi|IMAX</td>\n",
       "      <td>2013.0</td>\n",
       "      <td>2475</td>\n",
       "    </tr>\n",
       "    <tr>\n",
       "      <th>106782</th>\n",
       "      <td>Wolf of Wall Street, The (2013)</td>\n",
       "      <td>Comedy|Crime|Drama</td>\n",
       "      <td>2013.0</td>\n",
       "      <td>2031</td>\n",
       "    </tr>\n",
       "    <tr>\n",
       "      <th>102445</th>\n",
       "      <td>Star Trek Into Darkness (2013)</td>\n",
       "      <td>Action|Adventure|Sci-Fi|IMAX</td>\n",
       "      <td>2013.0</td>\n",
       "      <td>1971</td>\n",
       "    </tr>\n",
       "    <tr>\n",
       "      <th>106487</th>\n",
       "      <td>Hunger Games: Catching Fire, The (2013)</td>\n",
       "      <td>Action|Adventure|Sci-Fi|IMAX</td>\n",
       "      <td>2013.0</td>\n",
       "      <td>1873</td>\n",
       "    </tr>\n",
       "    <tr>\n",
       "      <th>102125</th>\n",
       "      <td>Iron Man 3 (2013)</td>\n",
       "      <td>Action|Sci-Fi|Thriller|IMAX</td>\n",
       "      <td>2013.0</td>\n",
       "      <td>1862</td>\n",
       "    </tr>\n",
       "    <tr>\n",
       "      <th>106920</th>\n",
       "      <td>Her (2013)</td>\n",
       "      <td>Drama|Romance|Sci-Fi</td>\n",
       "      <td>2013.0</td>\n",
       "      <td>1800</td>\n",
       "    </tr>\n",
       "    <tr>\n",
       "      <th>106489</th>\n",
       "      <td>Hobbit: The Desolation of Smaug, The (2013)</td>\n",
       "      <td>Adventure|Fantasy|IMAX</td>\n",
       "      <td>2013.0</td>\n",
       "      <td>1645</td>\n",
       "    </tr>\n",
       "    <tr>\n",
       "      <th>106916</th>\n",
       "      <td>American Hustle (2013)</td>\n",
       "      <td>Crime|Drama</td>\n",
       "      <td>2013.0</td>\n",
       "      <td>1199</td>\n",
       "    </tr>\n",
       "    <tr>\n",
       "      <th>106696</th>\n",
       "      <td>Frozen (2013)</td>\n",
       "      <td>Adventure|Animation|Comedy|Fantasy|Musical|Rom...</td>\n",
       "      <td>2013.0</td>\n",
       "      <td>1164</td>\n",
       "    </tr>\n",
       "    <tr>\n",
       "      <th>103042</th>\n",
       "      <td>Man of Steel (2013)</td>\n",
       "      <td>Action|Adventure|Fantasy|Sci-Fi|IMAX</td>\n",
       "      <td>2013.0</td>\n",
       "      <td>1120</td>\n",
       "    </tr>\n",
       "    <tr>\n",
       "      <th>105504</th>\n",
       "      <td>Captain Phillips (2013)</td>\n",
       "      <td>Adventure|Drama|Thriller|IMAX</td>\n",
       "      <td>2013.0</td>\n",
       "      <td>1119</td>\n",
       "    </tr>\n",
       "    <tr>\n",
       "      <th>101864</th>\n",
       "      <td>Oblivion (2013)</td>\n",
       "      <td>Action|Adventure|Sci-Fi|IMAX</td>\n",
       "      <td>2013.0</td>\n",
       "      <td>1084</td>\n",
       "    </tr>\n",
       "    <tr>\n",
       "      <th>105844</th>\n",
       "      <td>12 Years a Slave (2013)</td>\n",
       "      <td>Drama</td>\n",
       "      <td>2013.0</td>\n",
       "      <td>1055</td>\n",
       "    </tr>\n",
       "    <tr>\n",
       "      <th>103228</th>\n",
       "      <td>Pacific Rim (2013)</td>\n",
       "      <td>Action|Adventure|Sci-Fi|IMAX</td>\n",
       "      <td>2013.0</td>\n",
       "      <td>1026</td>\n",
       "    </tr>\n",
       "    <tr>\n",
       "      <th>106100</th>\n",
       "      <td>Dallas Buyers Club (2013)</td>\n",
       "      <td>Drama</td>\n",
       "      <td>2013.0</td>\n",
       "      <td>1020</td>\n",
       "    </tr>\n",
       "    <tr>\n",
       "      <th>103249</th>\n",
       "      <td>World War Z (2013)</td>\n",
       "      <td>Action|Drama|Horror|IMAX</td>\n",
       "      <td>2013.0</td>\n",
       "      <td>954</td>\n",
       "    </tr>\n",
       "    <tr>\n",
       "      <th>103253</th>\n",
       "      <td>Elysium (2013)</td>\n",
       "      <td>Action|Drama|Sci-Fi|IMAX</td>\n",
       "      <td>2013.0</td>\n",
       "      <td>944</td>\n",
       "    </tr>\n",
       "    <tr>\n",
       "      <th>104879</th>\n",
       "      <td>Prisoners (2013)</td>\n",
       "      <td>Drama|Mystery|Thriller</td>\n",
       "      <td>2013.0</td>\n",
       "      <td>895</td>\n",
       "    </tr>\n",
       "    <tr>\n",
       "      <th>106072</th>\n",
       "      <td>Thor: The Dark World (2013)</td>\n",
       "      <td>Action|Adventure|Fantasy|IMAX</td>\n",
       "      <td>2013.0</td>\n",
       "      <td>886</td>\n",
       "    </tr>\n",
       "    <tr>\n",
       "      <th>102903</th>\n",
       "      <td>Now You See Me (2013)</td>\n",
       "      <td>Crime|Mystery|Thriller</td>\n",
       "      <td>2013.0</td>\n",
       "      <td>844</td>\n",
       "    </tr>\n",
       "  </tbody>\n",
       "</table>\n",
       "</div>"
      ],
      "text/plain": [
       "                                               title  \\\n",
       "movieId                                                \n",
       "104841                                Gravity (2013)   \n",
       "106782               Wolf of Wall Street, The (2013)   \n",
       "102445                Star Trek Into Darkness (2013)   \n",
       "106487       Hunger Games: Catching Fire, The (2013)   \n",
       "102125                             Iron Man 3 (2013)   \n",
       "106920                                    Her (2013)   \n",
       "106489   Hobbit: The Desolation of Smaug, The (2013)   \n",
       "106916                        American Hustle (2013)   \n",
       "106696                                 Frozen (2013)   \n",
       "103042                           Man of Steel (2013)   \n",
       "105504                       Captain Phillips (2013)   \n",
       "101864                               Oblivion (2013)   \n",
       "105844                       12 Years a Slave (2013)   \n",
       "103228                            Pacific Rim (2013)   \n",
       "106100                     Dallas Buyers Club (2013)   \n",
       "103249                            World War Z (2013)   \n",
       "103253                                Elysium (2013)   \n",
       "104879                              Prisoners (2013)   \n",
       "106072                   Thor: The Dark World (2013)   \n",
       "102903                         Now You See Me (2013)   \n",
       "\n",
       "                                                    genres  ReleaseYear  \\\n",
       "movieId                                                                   \n",
       "104841                                  Action|Sci-Fi|IMAX       2013.0   \n",
       "106782                                  Comedy|Crime|Drama       2013.0   \n",
       "102445                        Action|Adventure|Sci-Fi|IMAX       2013.0   \n",
       "106487                        Action|Adventure|Sci-Fi|IMAX       2013.0   \n",
       "102125                         Action|Sci-Fi|Thriller|IMAX       2013.0   \n",
       "106920                                Drama|Romance|Sci-Fi       2013.0   \n",
       "106489                              Adventure|Fantasy|IMAX       2013.0   \n",
       "106916                                         Crime|Drama       2013.0   \n",
       "106696   Adventure|Animation|Comedy|Fantasy|Musical|Rom...       2013.0   \n",
       "103042                Action|Adventure|Fantasy|Sci-Fi|IMAX       2013.0   \n",
       "105504                       Adventure|Drama|Thriller|IMAX       2013.0   \n",
       "101864                        Action|Adventure|Sci-Fi|IMAX       2013.0   \n",
       "105844                                               Drama       2013.0   \n",
       "103228                        Action|Adventure|Sci-Fi|IMAX       2013.0   \n",
       "106100                                               Drama       2013.0   \n",
       "103249                            Action|Drama|Horror|IMAX       2013.0   \n",
       "103253                            Action|Drama|Sci-Fi|IMAX       2013.0   \n",
       "104879                              Drama|Mystery|Thriller       2013.0   \n",
       "106072                       Action|Adventure|Fantasy|IMAX       2013.0   \n",
       "102903                              Crime|Mystery|Thriller       2013.0   \n",
       "\n",
       "         nRatings  \n",
       "movieId            \n",
       "104841       2475  \n",
       "106782       2031  \n",
       "102445       1971  \n",
       "106487       1873  \n",
       "102125       1862  \n",
       "106920       1800  \n",
       "106489       1645  \n",
       "106916       1199  \n",
       "106696       1164  \n",
       "103042       1120  \n",
       "105504       1119  \n",
       "101864       1084  \n",
       "105844       1055  \n",
       "103228       1026  \n",
       "106100       1020  \n",
       "103249        954  \n",
       "103253        944  \n",
       "104879        895  \n",
       "106072        886  \n",
       "102903        844  "
      ]
     },
     "execution_count": 26,
     "metadata": {},
     "output_type": "execute_result"
    }
   ],
   "source": [
    "m_df[m_df.ReleaseYear == 2013].sort_values(\"nRatings\", ascending=False).head(20)"
   ]
  },
  {
   "cell_type": "code",
   "execution_count": 27,
   "metadata": {
    "collapsed": true
   },
   "outputs": [],
   "source": [
    "target_iid = 106100 # Dallas Buyers Club (2013)"
   ]
  },
  {
   "cell_type": "code",
   "execution_count": 28,
   "metadata": {},
   "outputs": [
    {
     "data": {
      "text/plain": [
       "1020"
      ]
     },
     "execution_count": 28,
     "metadata": {},
     "output_type": "execute_result"
    }
   ],
   "source": [
    "i_row = iu_m[iid_to_row[target_iid]]\n",
    "i_row.nnz"
   ]
  },
  {
   "cell_type": "code",
   "execution_count": 29,
   "metadata": {},
   "outputs": [
    {
     "data": {
      "text/plain": [
       "array([ 0.35686275,  0.15784314,  0.5872549 , ...,  0.00098039,\n",
       "        0.        ,  0.        ])"
      ]
     },
     "execution_count": 29,
     "metadata": {},
     "output_type": "execute_result"
    }
   ],
   "source": [
    "X_and_Y = i_row.dot(iu_m.T).todense().A1\n",
    "A_x_y = X_and_Y / i_row.nnz\n",
    "A_x_y"
   ]
  },
  {
   "cell_type": "code",
   "execution_count": 30,
   "metadata": {
    "collapsed": true
   },
   "outputs": [],
   "source": [
    "# индекс из строк в идентификаторы фильма\n",
    "row_to_iid = {row: iid for iid, row in iid_to_row.items()}"
   ]
  },
  {
   "cell_type": "code",
   "execution_count": 31,
   "metadata": {},
   "outputs": [
    {
     "name": "stdout",
     "output_type": "stream",
     "text": [
      "Dallas Buyers Club (2013) : 1.0\n",
      "Inception (2010) : 0.855882352941\n",
      "Shawshank Redemption, The (1994) : 0.849019607843\n",
      "Fight Club (1999) : 0.848039215686\n",
      "Matrix, The (1999) : 0.848039215686\n",
      "Pulp Fiction (1994) : 0.829411764706\n",
      "Dark Knight, The (2008) : 0.816666666667\n",
      "Lord of the Rings: The Fellowship of the Ring, The (2001) : 0.800980392157\n",
      "Forrest Gump (1994) : 0.799019607843\n",
      "American Beauty (1999) : 0.779411764706\n"
     ]
    }
   ],
   "source": [
    "for row_id in np.argsort(A_x_y)[::-1][:10]:\n",
    "    movie_id = row_to_iid[row_id]\n",
    "    score = A_x_y[row_id]\n",
    "    print(m_df.loc[movie_id].title, \":\", score)"
   ]
  },
  {
   "cell_type": "code",
   "execution_count": 32,
   "metadata": {},
   "outputs": [
    {
     "name": "stdout",
     "output_type": "stream",
     "text": [
      "Pulp Fiction (1994) : 67310\n",
      "Forrest Gump (1994) : 66172\n",
      "Shawshank Redemption, The (1994) : 63366\n",
      "Silence of the Lambs, The (1991) : 63299\n",
      "Jurassic Park (1993) : 59715\n",
      "Star Wars: Episode IV - A New Hope (1977) : 54502\n",
      "Braveheart (1995) : 53769\n",
      "Terminator 2: Judgment Day (1991) : 52244\n",
      "Matrix, The (1999) : 51334\n",
      "Schindler's List (1993) : 50054\n"
     ]
    }
   ],
   "source": [
    "for movie_id, score in rating_per_movie.head(10).iteritems():\n",
    "    print(m_df.loc[movie_id].title, \":\", score)"
   ]
  },
  {
   "cell_type": "markdown",
   "metadata": {},
   "source": [
    "### Т.е. много популярного контента"
   ]
  },
  {
   "cell_type": "markdown",
   "metadata": {},
   "source": [
    "#  Привлекательность"
   ]
  },
  {
   "cell_type": "markdown",
   "metadata": {},
   "source": [
    "$$A(x ,y) = \\frac{|X \\cap Y| / |X|}{|!X \\cap Y| / |!X|}$$\n",
    "\n",
    "* x, y - фильмы\n",
    "* X - пользователи, которые посмотрели x\n",
    "* !X - пользователи, которые не посмотрели x\n",
    "* Y - пользователи, которые посмотрели y"
   ]
  },
  {
   "cell_type": "code",
   "execution_count": 33,
   "metadata": {},
   "outputs": [
    {
     "data": {
      "text/plain": [
       "<1x138493 sparse matrix of type '<class 'numpy.float64'>'\n",
       "\twith 1020 stored elements in Compressed Sparse Row format>"
      ]
     },
     "execution_count": 33,
     "metadata": {},
     "output_type": "execute_result"
    }
   ],
   "source": [
    "i_row"
   ]
  },
  {
   "cell_type": "markdown",
   "metadata": {},
   "source": [
    "Если мы будем искать $!X \\cap Y$ в лоб, то получим очень плотную матрицу. Мы хотим этого избежать."
   ]
  },
  {
   "cell_type": "code",
   "execution_count": 34,
   "metadata": {},
   "outputs": [
    {
     "data": {
      "text/plain": [
       "(26744,)"
      ]
     },
     "execution_count": 34,
     "metadata": {},
     "output_type": "execute_result"
    }
   ],
   "source": [
    "not_X_and_Y = (iu_m - iu_m.multiply(i_row)).sum(axis=1).A1\n",
    "not_X_and_Y.shape"
   ]
  },
  {
   "cell_type": "code",
   "execution_count": 35,
   "metadata": {
    "collapsed": true
   },
   "outputs": [],
   "source": [
    "not_X = iu_m.shape[1] - i_row.nnz"
   ]
  },
  {
   "cell_type": "code",
   "execution_count": 36,
   "metadata": {},
   "outputs": [
    {
     "name": "stderr",
     "output_type": "stream",
     "text": [
      "/Users/tural/.virtualenvs/P3/lib/python3.6/site-packages/ipykernel_launcher.py:1: RuntimeWarning: divide by zero encountered in true_divide\n",
      "  \"\"\"Entry point for launching an IPython kernel.\n"
     ]
    }
   ],
   "source": [
    "At_x_y = (X_and_Y / i_row.nnz) / (not_X_and_Y / not_X)\n",
    "At_x_y[np.isinf(At_x_y)] = 0"
   ]
  },
  {
   "cell_type": "code",
   "execution_count": 38,
   "metadata": {},
   "outputs": [
    {
     "name": "stdout",
     "output_type": "stream",
     "text": [
      "Land Ho! (2014) : 1347.7745098\n",
      "Small Town Murder Songs (2010) : 1078.21960784\n",
      "Gasland Part II (2013) : 1078.21960784\n",
      "This is Martin Bonner (2013) : 943.442156863\n",
      "Love Is Strange (2014) : 898.516339869\n",
      "Honey, We Shrunk Ourselves (1997) : 808.664705882\n",
      "Simon Killer (2012)  : 808.664705882\n",
      "V/H/S: Viral (2014) : 808.664705882\n",
      "Rudderless (2014) : 808.664705882\n",
      "Starry Eyes (2014) : 808.664705882\n"
     ]
    }
   ],
   "source": [
    "for row_id in np.argsort(At_x_y)[::-1][:10]:\n",
    "    movie_id = row_to_iid[row_id]\n",
    "    score = At_x_y[row_id]\n",
    "    print(m_df.loc[movie_id].title, \":\", score)"
   ]
  },
  {
   "cell_type": "code",
   "execution_count": null,
   "metadata": {
    "collapsed": true
   },
   "outputs": [],
   "source": []
  }
 ],
 "metadata": {
  "kernelspec": {
   "display_name": "Python 3",
   "language": "python",
   "name": "python3"
  },
  "language_info": {
   "codemirror_mode": {
    "name": "ipython",
    "version": 3
   },
   "file_extension": ".py",
   "mimetype": "text/x-python",
   "name": "python",
   "nbconvert_exporter": "python",
   "pygments_lexer": "ipython3",
   "version": "3.6.1"
  }
 },
 "nbformat": 4,
 "nbformat_minor": 2
}
