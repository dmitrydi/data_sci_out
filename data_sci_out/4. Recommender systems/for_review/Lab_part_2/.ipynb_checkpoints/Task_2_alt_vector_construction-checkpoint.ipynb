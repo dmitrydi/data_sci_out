{
 "cells": [
  {
   "cell_type": "code",
   "execution_count": 1,
   "metadata": {
    "collapsed": true
   },
   "outputs": [],
   "source": [
    "# импорты, которые точно понадобятся\n",
    "import pandas as pd\n",
    "import numpy as np\n",
    "# Данные взяты отсюда - http://jmcauley.ucsd.edu/data/amazon/\n",
    "# http://snap.stanford.edu/data/amazon/productGraph/categoryFiles/reviews_Video_Games_5.json.gz\n",
    "JSON_DATA_PATH = \"lab_data/Video_Games_5.json\"\n",
    "N = 10\n"
   ]
  },
  {
   "cell_type": "code",
   "execution_count": 2,
   "metadata": {
    "collapsed": true
   },
   "outputs": [],
   "source": [
    "import json\n",
    "\n",
    "def iter_json_data(path):\n",
    "    with open(path) as f:\n",
    "        for line in f:\n",
    "            data = json.loads(line)\n",
    "            yield data\n",
    "            \n",
    "def get_data_frame():\n",
    "    import re\n",
    "    uid_to_id = {}\n",
    "    iid_to_id = {}\n",
    "    \n",
    "    cols = [\"uid\", \"iid\", \"review\", \"rating\", \"dt\", 'useful']\n",
    "    rows = []\n",
    "\n",
    "    for d in iter_json_data(JSON_DATA_PATH):\n",
    "        uid = uid_to_id.setdefault(d[\"reviewerID\"], len(uid_to_id))\n",
    "        iid = iid_to_id.setdefault(d[\"asin\"], len(iid_to_id))\n",
    "        review = d[\"reviewText\"]\n",
    "        rating = float(d[\"overall\"])\n",
    "        dt = int(d[\"unixReviewTime\"])\n",
    "        useful = d[\"helpful\"]\n",
    "        rows.append((uid, iid, review, rating, dt, useful))\n",
    "        \n",
    "        \n",
    "    return pd.DataFrame(rows, columns=cols)\n",
    "\n",
    "df = get_data_frame()"
   ]
  },
  {
   "cell_type": "code",
   "execution_count": 3,
   "metadata": {},
   "outputs": [
    {
     "data": {
      "text/html": [
       "<div>\n",
       "<style>\n",
       "    .dataframe thead tr:only-child th {\n",
       "        text-align: right;\n",
       "    }\n",
       "\n",
       "    .dataframe thead th {\n",
       "        text-align: left;\n",
       "    }\n",
       "\n",
       "    .dataframe tbody tr th {\n",
       "        vertical-align: top;\n",
       "    }\n",
       "</style>\n",
       "<table border=\"1\" class=\"dataframe\">\n",
       "  <thead>\n",
       "    <tr style=\"text-align: right;\">\n",
       "      <th></th>\n",
       "      <th>uid</th>\n",
       "      <th>iid</th>\n",
       "      <th>review</th>\n",
       "      <th>rating</th>\n",
       "      <th>dt</th>\n",
       "      <th>useful</th>\n",
       "    </tr>\n",
       "  </thead>\n",
       "  <tbody>\n",
       "    <tr>\n",
       "      <th>0</th>\n",
       "      <td>0</td>\n",
       "      <td>0</td>\n",
       "      <td>Installing the game was a struggle (because of...</td>\n",
       "      <td>1.0</td>\n",
       "      <td>1341792000</td>\n",
       "      <td>[8, 12]</td>\n",
       "    </tr>\n",
       "    <tr>\n",
       "      <th>1</th>\n",
       "      <td>1</td>\n",
       "      <td>0</td>\n",
       "      <td>If you like rally cars get this game you will ...</td>\n",
       "      <td>4.0</td>\n",
       "      <td>1372550400</td>\n",
       "      <td>[0, 0]</td>\n",
       "    </tr>\n",
       "    <tr>\n",
       "      <th>2</th>\n",
       "      <td>2</td>\n",
       "      <td>0</td>\n",
       "      <td>1st shipment received a book instead of the ga...</td>\n",
       "      <td>1.0</td>\n",
       "      <td>1403913600</td>\n",
       "      <td>[0, 0]</td>\n",
       "    </tr>\n",
       "    <tr>\n",
       "      <th>3</th>\n",
       "      <td>3</td>\n",
       "      <td>0</td>\n",
       "      <td>I got this version instead of the PS3 version,...</td>\n",
       "      <td>3.0</td>\n",
       "      <td>1315958400</td>\n",
       "      <td>[7, 10]</td>\n",
       "    </tr>\n",
       "    <tr>\n",
       "      <th>4</th>\n",
       "      <td>4</td>\n",
       "      <td>0</td>\n",
       "      <td>I had Dirt 2 on Xbox 360 and it was an okay ga...</td>\n",
       "      <td>4.0</td>\n",
       "      <td>1308009600</td>\n",
       "      <td>[2, 2]</td>\n",
       "    </tr>\n",
       "  </tbody>\n",
       "</table>\n",
       "</div>"
      ],
      "text/plain": [
       "   uid  iid                                             review  rating  \\\n",
       "0    0    0  Installing the game was a struggle (because of...     1.0   \n",
       "1    1    0  If you like rally cars get this game you will ...     4.0   \n",
       "2    2    0  1st shipment received a book instead of the ga...     1.0   \n",
       "3    3    0  I got this version instead of the PS3 version,...     3.0   \n",
       "4    4    0  I had Dirt 2 on Xbox 360 and it was an okay ga...     4.0   \n",
       "\n",
       "           dt   useful  \n",
       "0  1341792000  [8, 12]  \n",
       "1  1372550400   [0, 0]  \n",
       "2  1403913600   [0, 0]  \n",
       "3  1315958400  [7, 10]  \n",
       "4  1308009600   [2, 2]  "
      ]
     },
     "execution_count": 3,
     "metadata": {},
     "output_type": "execute_result"
    }
   ],
   "source": [
    "df.head()"
   ]
  },
  {
   "cell_type": "code",
   "execution_count": 4,
   "metadata": {
    "collapsed": true
   },
   "outputs": [],
   "source": [
    "def split_df_by_dt(df, p=0.8):\n",
    "    \"\"\"Функция разбивает df на тестовую и тренировочную выборки по времени \n",
    "    публикации отзывов (значение времени в поле dt)\n",
    "    \n",
    "    :param p: персентиль значений dt, которые образуют тренировочную выборку. Например p=0.8 означает, что в \n",
    "    тренировочной части будут отзывы, соответствующие первым 80% временного интервала \n",
    "    :return: два pd.DataFrame объекта\n",
    "    \"\"\"\n",
    "    border_dt = df.dt.quantile(p)\n",
    "    print(\"Min=%s, border=%s, max=%s\" % (df.dt.min(), border_dt, df.dt.max()))\n",
    "    training_df, test_df  = df[df.dt <= border_dt], df[df.dt > border_dt]\n",
    "    print(\"Размер до очистки:\", training_df.shape, test_df.shape)\n",
    "    # удаляем из тестовых данных строки, соответствующие пользователям или объектам, \n",
    "    # которых нет в тренировочных данных \n",
    "    # (пользователи - избегаем проблем для персональных систем, объекты - для всех)\n",
    "    test_df = test_df[test_df.uid.isin(training_df.uid) & test_df.iid.isin(training_df.iid)]\n",
    "    print(\"Размер после очистки:\", training_df.shape, test_df.shape)\n",
    "    return training_df, test_df"
   ]
  },
  {
   "cell_type": "code",
   "execution_count": 5,
   "metadata": {},
   "outputs": [
    {
     "name": "stdout",
     "output_type": "stream",
     "text": [
      "Min=939859200, border=1377129600.0, max=1405987200\n",
      "Размер до очистки: (185427, 6) (46353, 6)\n",
      "Размер после очистки: (185427, 6) (19174, 6)\n"
     ]
    }
   ],
   "source": [
    "training_df, test_df = split_df_by_dt(df, p=0.8)\n",
    "del df"
   ]
  },
  {
   "cell_type": "code",
   "execution_count": 18,
   "metadata": {
    "collapsed": true
   },
   "outputs": [],
   "source": [
    "def prepare_items_matrix(df, max_features=None, del_texts=True):\n",
    "    from scipy.sparse import csr_matrix\n",
    "    from scipy.sparse import vstack\n",
    "    from sklearn.feature_extraction.text import TfidfVectorizer\n",
    "    \n",
    "    id_dict = {} # сщщтветствие id объекта и перечня строк, относящихся к этому объекту в df\n",
    "    cntr = 0 # счетчик строк\n",
    "    texts = [] # массив текстов\n",
    "    items_list = [] # массив для промежуточного хранения векторов объектов\n",
    "    iid_to_row = {}\n",
    "    \n",
    "    for iid in df.iid.unique():\n",
    "        dummy = []\n",
    "        for review in df.loc[df.iid == iid].review:\n",
    "            dummy.append(cntr)\n",
    "            texts.append(review)\n",
    "            cntr+=1\n",
    "        id_dict[iid] = dummy\n",
    "    \n",
    "    # создаем векторизатор\n",
    "    tfvect = TfidfVectorizer(stop_words='english', max_features=max_features).fit(texts)\n",
    "    voc_len = len(tfvect.vocabulary_)\n",
    "        \n",
    "    for iid, rows in id_dict.items():\n",
    "        item_vect = csr_matrix((1,voc_len))\n",
    "        for i in rows:\n",
    "            review = texts[i]\n",
    "            vect = tfvect.transform([review])\n",
    "            item_vect += vect\n",
    "        item_vect = item_vect/len(rows)\n",
    "        items_list.append(item_vect)\n",
    "        iid_to_row[iid] = iid_to_row.setdefault(iid, len(iid_to_row))\n",
    "    \n",
    "    items_matrix = vstack(items_list)\n",
    "    del items_list\n",
    "    if del_texts:\n",
    "        del texts\n",
    "    \n",
    "    return items_matrix, iid_to_row"
   ]
  },
  {
   "cell_type": "code",
   "execution_count": 19,
   "metadata": {
    "collapsed": true
   },
   "outputs": [],
   "source": [
    "items_matrix, iid_to_row = prepare_items_matrix(training_df)"
   ]
  },
  {
   "cell_type": "code",
   "execution_count": 20,
   "metadata": {},
   "outputs": [
    {
     "data": {
      "text/plain": [
       "<10098x197239 sparse matrix of type '<class 'numpy.float64'>'\n",
       "\twith 7356087 stored elements in Compressed Sparse Row format>"
      ]
     },
     "execution_count": 20,
     "metadata": {},
     "output_type": "execute_result"
    }
   ],
   "source": [
    "items_matrix"
   ]
  },
  {
   "cell_type": "code",
   "execution_count": 22,
   "metadata": {
    "collapsed": true
   },
   "outputs": [],
   "source": [
    "class BasicRecommender(object):\n",
    "    def __init__(self):\n",
    "        pass\n",
    "    \n",
    "    def get_recs(self, uid, top):\n",
    "        \"\"\"Строит рекомендации для пользователя uid\n",
    "        :return: словарь типа {iid: score, ...}\n",
    "        \"\"\"\n",
    "        return {}\n",
    "    \n",
    "    def get_batch_recs(self, uids, top):\n",
    "        \"\"\"Строит рекомендации для нескольких пользователей uids\n",
    "        :return: словарь типа {uid: {iid: score, ...}, ...}\n",
    "        \"\"\"\n",
    "        return {uid: self.get_recs(uid, top) for uid in uids}\n",
    "    \n",
    "class NonPersRecommender(BasicRecommender):\n",
    "    \n",
    "    def __init__(self, df):\n",
    "        super(NonPersRecommender, self).__init__()\n",
    "        self.recs = self._prepare_recs(df)\n",
    "        \n",
    "    def _prepare_recs(self, df):\n",
    "        return pd.Series([])\n",
    "    \n",
    "    def get_recs(self, uid, top):\n",
    "        from collections import OrderedDict\n",
    "        return OrderedDict(self.recs[:top])\n",
    "    \n",
    "    def get_batch_recs(self, uids, top):\n",
    "        non_pers_recs = self.get_recs(None, top)\n",
    "        return {uid: non_pers_recs for uid in uids}"
   ]
  },
  {
   "cell_type": "code",
   "execution_count": 23,
   "metadata": {
    "collapsed": true
   },
   "outputs": [],
   "source": [
    "def get_test_dict(test_df):\n",
    "    \"\"\"Функция, конвертирующая тестовый df в словарь\n",
    "    \"\"\"\n",
    "    test_dict = {}\n",
    "    for t in test_df.itertuples():\n",
    "        test_dict.setdefault(t.uid, {})\n",
    "        test_dict[t.uid][t.iid] = t.rating\n",
    "    return test_dict\n",
    "\n",
    "test_dict = get_test_dict(test_df)"
   ]
  },
  {
   "cell_type": "code",
   "execution_count": 24,
   "metadata": {
    "collapsed": true
   },
   "outputs": [],
   "source": [
    "def hit_ratio(recs_dict, test_dict):\n",
    "    \"\"\"Функция считает метрику hit-ration для двух словарей\n",
    "    :recs_dict: словарь рекомендаций типа {uid: {iid: score, ...}, ...}\n",
    "    :test_dict: тестовый словарь типа {uid: {iid: score, ...}, ...}\n",
    "    \"\"\"\n",
    "    hits = 0\n",
    "    for uid in test_dict:\n",
    "        if set(test_dict[uid].keys()).intersection(recs_dict.get(uid, {})):\n",
    "            hits += 1\n",
    "    return hits / len(test_dict)"
   ]
  },
  {
   "cell_type": "code",
   "execution_count": 47,
   "metadata": {
    "collapsed": true
   },
   "outputs": [],
   "source": [
    "class ContentBasedRecommender(NonPersRecommender):\n",
    "    \n",
    "    def __init__(self, items_matrix, iid_to_ind, train_df, max_features=None, use_dt=True, use_ratings=False):\n",
    "        super(NonPersRecommender, self).__init__()\n",
    "\n",
    "        from sklearn.feature_extraction.text import TfidfVectorizer\n",
    "        import numpy as np\n",
    "        import pandas as pd\n",
    "        \n",
    "\n",
    "        self.items_matrix = items_matrix #TfidfVectorizer(stop_words='english', max_features=max_features).fit_transform(text_array)\n",
    "        #self.uid_to_ind = uid_to_ind\n",
    "        self.iid_to_ind = iid_to_ind\n",
    "        self.df = train_df[['iid','uid', 'dt', 'rating']]\n",
    "        self.use_ratings = use_ratings\n",
    "        self.use_dt = use_dt\n",
    "        self.DICT_LEN = self.items_matrix.shape[1]\n",
    "        self.uinque_ids = train_df.iid.unique()\n",
    "        \n",
    "    def get_recs(self, uids_to_recommend, top_k=10):\n",
    "        self.recs = self._prepare_recs(uids_to_recommend, top_k)\n",
    "        return self.recs\n",
    "\n",
    "    def select_item(source_matrix, keys_to_index, key_, exclude_keys):\n",
    "        if key_ in exclude_keys:\n",
    "            return 0\n",
    "        else:\n",
    "            return source_matrix[0, keys_to_index[key_]]\n",
    "        \n",
    "    def _prepare_recs(self, uids_to_recommend, top_k):\n",
    "        from sklearn.metrics.pairwise import cosine_similarity\n",
    "        from scipy.sparse import csr_matrix\n",
    "        recs = {}\n",
    "        for uid in uids_to_recommend:\n",
    "            user_df = self.df[self.df.uid == uid]\n",
    "            user_items = user_df.iid\n",
    "\n",
    "            if self.use_dt:\n",
    "                user_dt = user_df.dt\n",
    "                user_dt = user_dt/max(user_dt)\n",
    "            else:\n",
    "                user_dt = np.ones(len(user_items))\n",
    "\n",
    "            if self.use_ratings:\n",
    "                user_ratings = user_df.rating\n",
    "            else:\n",
    "                user_ratings = np.ones(len(user_items))\n",
    "\n",
    "            #инициализируем вектор плбьзователя\n",
    "            user_vect = csr_matrix((1, self.DICT_LEN))\n",
    "\n",
    "            #вектор пользователя\n",
    "            for iid, time, rating in zip(user_items, user_dt, user_ratings):\n",
    "                item_vect = self.items_matrix.getrow(self.iid_to_ind[iid])\n",
    "                user_vect += item_vect.multiply(time*rating)\n",
    "\n",
    "            #вектор схожести для пользователя\n",
    "            sim_vector = cosine_similarity(user_vect, self.items_matrix, dense_output=True)\n",
    "            #item_with_score = { iid: select_item(sim_vector, self.iid_to_ind, iid, user_items) for iid in self.iid_to_ind.keys() }\n",
    "            items_with_score = { iid: sim_vector[0, self.iid_to_ind[iid]] for iid in set(self.uinque_ids).difference(set(user_items)) }\n",
    "            user_recs = sorted([(k,v) for k,v in items_with_score.items()], key=lambda x: -x[1])[:top_k]\n",
    "            user_recs = dict(user_recs)\n",
    "            recs[uid] = user_recs\n",
    "\n",
    "        return recs"
   ]
  },
  {
   "cell_type": "code",
   "execution_count": 48,
   "metadata": {
    "collapsed": true
   },
   "outputs": [],
   "source": [
    "recommender = ContentBasedRecommender(items_matrix, iid_to_row, training_df, use_dt=False, use_ratings=False)"
   ]
  },
  {
   "cell_type": "code",
   "execution_count": 49,
   "metadata": {
    "collapsed": true
   },
   "outputs": [],
   "source": [
    "uids_to_recommend = test_dict.keys()"
   ]
  },
  {
   "cell_type": "code",
   "execution_count": 50,
   "metadata": {},
   "outputs": [
    {
     "data": {
      "text/plain": [
       "0.07630227439471754"
      ]
     },
     "execution_count": 50,
     "metadata": {},
     "output_type": "execute_result"
    }
   ],
   "source": [
    "recs = recommender.get_recs(uids_to_recommend)\n",
    "hit_ratio(recs, test_dict)"
   ]
  },
  {
   "cell_type": "code",
   "execution_count": null,
   "metadata": {
    "collapsed": true
   },
   "outputs": [],
   "source": []
  }
 ],
 "metadata": {
  "kernelspec": {
   "display_name": "Python 3",
   "language": "python",
   "name": "python3"
  },
  "language_info": {
   "codemirror_mode": {
    "name": "ipython",
    "version": 3
   },
   "file_extension": ".py",
   "mimetype": "text/x-python",
   "name": "python",
   "nbconvert_exporter": "python",
   "pygments_lexer": "ipython3",
   "version": "3.6.1"
  }
 },
 "nbformat": 4,
 "nbformat_minor": 2
}
